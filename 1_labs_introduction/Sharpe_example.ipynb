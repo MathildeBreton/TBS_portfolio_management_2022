{
  "nbformat": 4,
  "nbformat_minor": 0,
  "metadata": {
    "kernelspec": {
      "name": "python3",
      "display_name": "Python 3",
      "language": "python"
    },
    "language_info": {
      "name": "python",
      "version": "3.6.7",
      "mimetype": "text/x-python",
      "codemirror_mode": {
        "name": "ipython",
        "version": 3
      },
      "pygments_lexer": "ipython3",
      "nbconvert_exporter": "python",
      "file_extension": ".py"
    },
    "colab": {
      "name": "Sharpe_example.ipynb",
      "provenance": [],
      "collapsed_sections": [
        "e2hIzjCnSsft",
        "-7HoRPEDFQSn",
        "dC7OWu4VFQSo",
        "4mHW8YxmyYHH",
        "qFKpFXE6FQSo",
        "WMr1CUMEFQSp",
        "5KB5C7WzFQSp",
        "UQFy7q2FFQSp",
        "Z6VlEKUyFQSq",
        "7NGQKBMeL7qX",
        "trk_vT2LFQSq",
        "kPNznTK3r31r",
        "zq3S6crysXqW"
      ],
      "toc_visible": true
    }
  },
  "cells": [
    {
      "cell_type": "markdown",
      "metadata": {
        "dc": {
          "key": "3"
        },
        "deletable": false,
        "editable": false,
        "run_control": {
          "frozen": true
        },
        "tags": [
          "context"
        ],
        "id": "HT0f0z4GFQSi"
      },
      "source": [
        "[![Open In Colab](https://colab.research.google.com/assets/colab-badge.svg)](https://colab.research.google.com/drive/1rDXX2GFZwULjMk-JJdU2k9lSYGti7M-f?usp=sharing)\n",
        "# <strong> Investment Management 1</strong>\n",
        "---\n",
        "#<strong> Sharpe Ratio example</strong>\n",
        "\n",
        "In 1966, William Sharpe introduced the so-called <a href=\"https://web.stanford.edu/~wfsharpe/art/sr/sr.htm\"><em>reward-to-variability ratio</em></a>. While, by Prof. Sharpe's own admission, the \"measure has gained considerable popularity, the name has not.\" For years to come, researchers have termed the original version of the measure the Sharpe Index, the Sharpe Measure, or the Sharpe Ratio (Morningstar). We will use the latter term in this tutorial. \n",
        "\n",
        "The Sharpe Ratio is a risk-adjusted measure of investment return that uses standard deviation to represent risk, and it is one of the most popular risk-adjusted performance measures in finance. In its original form, the Sharpe Ratio is calculated as the expected excess return on an asset over the risk-free rate divided by the standard deviation of the excess return:\n",
        "\n",
        "&nbsp;\n",
        "\n",
        "$$Sharpe Ratio  = \\frac{E|R_p - R_{rf}|}{\\sqrt{var(R_p - R_{rf})}} \\times \\sqrt{N}$$\n",
        "\n",
        "&nbsp;\n",
        "\n",
        "where $R_{rf}$ is the benchmark/ risk-free return, $R_p$ is the portfolio return, $𝑁$ is the number of sampling periods in a year. It is common to use the <a href=\"https://fred.stlouisfed.org/series/TB3MS\"> three-month T-bill rate</a> as the risk-free interest rate. The portfolio return and risk-free rate can be observed at any frequency (e.g., daily, weekly, monthly, etc), as long as they are consistent for both measures. For instance, Morningstar calculates a monthly $Sharpe Ratio$ and then annualises it to put the number in a more useful one-year context, as follows:\n",
        "\n",
        "&nbsp;\n",
        "\n",
        "$$Sharpe Ratio_{AN} = Sharpe Ratio_M \\times \\sqrt{12}$$\n",
        "\n",
        "&nbsp;\n",
        "\n",
        "We will follow Morningstar's approach in this tutorial. Also, while the Sharpe ratio is typically calculated for a portfolio of assets, in this tutorial we will use stocks instead of portfolios.\n",
        "\n",
        "The higher the Sharpe Ratio, the better the asset’s historical risk-adjusted performance. It is often used to compare and rank portfolio managers with similar strategies on the basis of excess return each portfolio achieved per unit of total risk."
      ]
    },
    {
      "cell_type": "markdown",
      "metadata": {
        "id": "e2hIzjCnSsft"
      },
      "source": [
        "## 1. Importing required libraries and data\n",
        "\n",
        "We start by importing the required Python modules/libraries. We further import monthly stock prices for two S&P 500 firms and the 3-month T-bill rate for the 2016-2020 period."
      ]
    },
    {
      "cell_type": "code",
      "metadata": {
        "dc": {
          "key": "3"
        },
        "tags": [
          "sample_code"
        ],
        "collapsed": true,
        "trusted": true,
        "id": "gOz_nh61FQSm"
      },
      "source": [
        "# First, we import the required modules: pandas, numpy and matplotlib (for visualisations)\n",
        "import pandas as pd\n",
        "import numpy as np\n",
        "import matplotlib.pyplot as plt\n",
        "\n",
        "# Select \"ggplot\" as the style for Matplotlib plots\n",
        "# (see https://matplotlib.org/3.1.1/gallery/style_sheets/style_sheets_reference.html)\n",
        "plt.style.use('ggplot')\n",
        "%matplotlib inline\n",
        "\n",
        "# To enable the Colab extension that renders pandas dataframes into interactive tables, we will use:\n",
        "%load_ext google.colab.data_table"
      ],
      "execution_count": null,
      "outputs": []
    },
    {
      "cell_type": "markdown",
      "metadata": {
        "id": "qVqTyf3TZ5hm"
      },
      "source": [
        "\n",
        "The necessary data for this tutorial are in the <a href=\"https://github.com/mscouse/TBS_investment_management\"> course GitHub repository</a> (see the \"1_labs_introduction\" folder). You can either clone an entire GitHub repository to your Colab environment or access individual data files using their raw links.\n",
        "We will follow the latter approach, as we only need to access 2 files in the course repository. See the \"PM_labs_part_4\" notebook for alternative ways to upload the data.\n",
        "\n",
        "To load individual files directly from GitHub using thier raw links:\n",
        "\n",
        "1.   click on the file in the repository;\n",
        "2.   click on `View Raw`;\n",
        "3.   copy the URL of the raw file,\n",
        "4.   use this URL as the location of your file (see sample code below) \n",
        "\n",
        "```\n",
        "# step 1: store the link to your dataset as a string titled \"url\"\n",
        "url=\"https://raw.githubusercontent.com/mscouse/TBS_investment_management/main/1_labs_introduction/stock_prices_1.csv\"\n",
        "\n",
        "# step 2: Load the dataset into pandas. The dataset is stored as a pandas dataframe \"df\".\n",
        "df = pd.read_csv(url, parse_dates=['date'], index_col=['date']).dropna()\n",
        "```\n",
        "\n",
        "The dataset will be stored as a Pandas Dataframe \"df\". Note that the data files we deal with in this example contain dates in the first column, titled `'date'`. Therefore, we parse the dates using `parse_dates` and set the date column to be the index of the dataframe (using the `index_col` parameter). We further drop all the missing values by using the `.dropna()` method. \n"
      ]
    },
    {
      "cell_type": "code",
      "metadata": {
        "id": "Klzc2-DqVSB5"
      },
      "source": [
        "# Fetching necessary data from GitHub\n",
        "# \"stock_prices\" dataframe contains stock prices on AAPL and JPM\n",
        "# \"tbill_rate\" dataframe cotains monthly 1-month Tbill rates\n",
        "\n",
        "\n",
        "# step 1: store the link to your dataset as a string titled \"url\"\n",
        "url_stocks = \"https://raw.githubusercontent.com/mscouse/TBS_investment_management/main/1_labs_introduction/stock_prices.csv\"\n",
        "url_tbill = \"https://raw.githubusercontent.com/mscouse/TBS_investment_management/main/1_labs_introduction/FF_factors.csv\"\n",
        "\n",
        "\n",
        "\"\"\"\n",
        "step 2: Load the datasets into pandas. The datasets are stored as pandas dataframes\n",
        "\"stock_prices\" and \"tbill_rate\". To make things more interesting, the \"stock_prices\" \n",
        "dataset contains daily prices, whereas the \"tbill_rate\" contains monthly data. Note that\n",
        "the dates in the \"stock_prices\" file we load from GitHub are in the ddmmyyyy format, whereas Pandas\n",
        "uses the yyyymmdd format instead. Therefore, we convert them using the \"datetime\" method:\n",
        "\"\"\"\n",
        "stock_prices = pd.read_csv(url_stocks, index_col=['date']).dropna()\n",
        "stock_prices.index = pd.to_datetime(stock_prices.index, dayfirst=True)\n",
        "\n",
        "\"\"\"\n",
        "Also note that the dates in the \"FF_factors\" file we load from GitHub are initially just integers in the yyyymm format.\n",
        "Therefore, we convert the index to a datetime, where the date is the last day of the associated month index:\n",
        "\"\"\"\n",
        "tbill_rate = pd.read_csv(url_tbill, index_col=['date']).dropna()\n",
        "tbill_rate.index = pd.to_datetime(tbill_rate.index, format='%Y%m') + pd.offsets.MonthEnd()"
      ],
      "execution_count": null,
      "outputs": []
    },
    {
      "cell_type": "markdown",
      "metadata": {
        "dc": {
          "key": "11"
        },
        "deletable": false,
        "editable": false,
        "run_control": {
          "frozen": true
        },
        "tags": [
          "context"
        ],
        "id": "-7HoRPEDFQSn"
      },
      "source": [
        "## 2. First look at the data\n",
        "\n",
        "Our second task is to explore the loaded data files. Note that for most data-related tasks we use `pandas`, which is an open-source package for data analysis in Python. Pandas is a handy toolkit for working with real world data that often have a tabular structure, such as series of stock prices.\n",
        "\n",
        "The fundamental `pandas` data structures are `DataFrames` and `Series`. \n",
        "\n",
        "Pandas `DataFrame` is a 2-dimensional data structure used for storing and mainpulating tabular data, with rows and columns. You can think of pandas `DataFrame` as a programmable Excel worksheet.\n",
        "\n",
        "Pandas `Series` is a 1-dimensional data structure used for storing and manipulating a vector of values. Pandas `Series` can be thought of as a list or a column of numerical values in Excel. Any row or column in a Pandas `DataFrame` is, therefore, a Pandas `Series`. We refer to an individual column (`series`) within the dataframe as:\n",
        "\n",
        "```\n",
        "df['column_name']\n",
        "```\n",
        "See `pandas` <a href=\"https://pandas.pydata.org/docs/index.html\">official documentation</a> for more information."
      ]
    },
    {
      "cell_type": "code",
      "metadata": {
        "dc": {
          "key": "11"
        },
        "tags": [
          "sample_code"
        ],
        "trusted": true,
        "id": "sStZULOrFQSn"
      },
      "source": [
        "# Display summary for the stock_prices dataframe\n",
        "print('Stock prices\\n')\n",
        "stock_prices.info()\n",
        "print(stock_prices.head())\n",
        "\n",
        "# Display summary for the tbill_rate dataframe\n",
        "print('\\nTreasury-bill rates \\n')\n",
        "tbill_rate.info()\n",
        "print(tbill_rate.head())"
      ],
      "execution_count": null,
      "outputs": []
    },
    {
      "cell_type": "markdown",
      "metadata": {
        "dc": {
          "key": "18"
        },
        "deletable": false,
        "editable": false,
        "run_control": {
          "frozen": true
        },
        "tags": [
          "context"
        ],
        "id": "dC7OWu4VFQSo"
      },
      "source": [
        "## 3. Compute descriptive statistics for daily stock prices\n",
        "\n",
        "The next step is to compute and examine the basic descriptive statistics for the stock prices. \n",
        "\n",
        "With `pandas`, different summary statistics can be applied to columns with numerical data (pandas `series`) or the entire `dataframe`. Operations in general exclude missing data and operate across rows by default. Below are several examples of useful statistics.\n",
        "\n",
        "**Mean**\n",
        "```\n",
        "df['column_name'].mean()\n",
        "```\n",
        "\n",
        "**Median:** In this example, the statistic applied to multiple columns of a DataFrame\n",
        "```\n",
        "df['column_name_1', 'column_name_2'].median()\n",
        "```\n",
        "\n",
        "**Standard deviation**\n",
        "```\n",
        "df['column_name'].std()\n",
        "```\n",
        "**Aggregating summary statistics:** The aggregating statistic can be calculated for multiple columns at the same time using the `describe` function\n",
        "```\n",
        "df.describe()\n",
        "```\n",
        "\n"
      ]
    },
    {
      "cell_type": "code",
      "metadata": {
        "dc": {
          "key": "18"
        },
        "tags": [
          "sample_code"
        ],
        "trusted": true,
        "id": "xIBca5MtFQSo"
      },
      "source": [
        "# compute and store the average stock price for in the 'JPM' column of the stock_prices dataframe \n",
        "jpm_mean = stock_prices['JPM'].mean()\n",
        "print(jpm_mean)\n",
        "\n",
        "# compute basic descriptive statistics for all columns of the stock_prices dataframe\n",
        "stock_prices.describe()\n"
      ],
      "execution_count": null,
      "outputs": []
    },
    {
      "cell_type": "markdown",
      "metadata": {
        "id": "4mHW8YxmyYHH"
      },
      "source": [
        "## 4. Visualise daily stock prices\n",
        "\n",
        "The next step is to visualise the data. The pyplot module from matplotlib we imported earlier is the stateful interface of matplotlib. Almost all functions in that module, such as plt.plot(), would either apply to an existing current figure (and its axes), or create them anew if none exist. \n",
        "\n",
        "Matplotlib also allows saving figures in a wide range of formats. Saving a figure can be done using the `savefig()` command. You can also adjust the resolution (dpi) of your saved figure. To save the figure as a PNG file, you can use the script below. On the left side of colab interface, there is a \"Files/ Folder\" tab. You can find all the files you saved there.\n",
        "```\n",
        "plt.savefig('sample_figure.png', dpi=300)\n",
        "```\n"
      ]
    },
    {
      "cell_type": "code",
      "metadata": {
        "id": "hCddoWUXygVZ"
      },
      "source": [
        "# visualise stock_prices\n",
        "stock_prices.plot(title='Daily Stock Prices', subplots=True, figsize=(10, 8))\n",
        "\n",
        "# saving the figure\n",
        "plt.savefig('stock_prices.png', dpi=300)"
      ],
      "execution_count": null,
      "outputs": []
    },
    {
      "cell_type": "markdown",
      "metadata": {
        "dc": {
          "key": "25"
        },
        "deletable": false,
        "editable": false,
        "run_control": {
          "frozen": true
        },
        "tags": [
          "context"
        ],
        "id": "qFKpFXE6FQSo"
      },
      "source": [
        "## 5. Examine and visualise values for Treasury-bill security\n",
        "\n",
        "We next take a closer look at the available Treasury-bill rates and repeat steps (3)-(4) above."
      ]
    },
    {
      "cell_type": "code",
      "metadata": {
        "dc": {
          "key": "25"
        },
        "tags": [
          "sample_code"
        ],
        "trusted": true,
        "id": "_5uT_3NPFQSo"
      },
      "source": [
        "# plot the benchmark_data\n",
        "tbill_rate['RF'].plot(title='Monthly T-bill rate', figsize=(10, 8))\n",
        "\n",
        "# summarize the benchmark_data\n",
        "tbill_rate['RF'].describe()"
      ],
      "execution_count": null,
      "outputs": []
    },
    {
      "cell_type": "markdown",
      "metadata": {
        "dc": {
          "key": "32"
        },
        "deletable": false,
        "editable": false,
        "run_control": {
          "frozen": true
        },
        "tags": [
          "context"
        ],
        "id": "WMr1CUMEFQSp"
      },
      "source": [
        "## 6. Compute monthly stock returns\n",
        "\n",
        "The Sharpe Ratio is computed as the expected excess return on an asset over the risk-free rate divided by the standard deviation of the excess return. However, our dataset contains historical prices for each stock, not the returns. To calculate the returns, we need to calculate the percentage change in stock prices from one day to the next.\n",
        "\n",
        "Furthermore, as we follow Morningstar's approach to calcuating the Sharpe ratio, we need to convert daily returns into monthly returns. As a reminder, Morningstar calculates a monthly $Sharpe Ratio$ and then annualises it to put the number in a more useful one-year context, as follows:\n",
        "\n",
        "&nbsp;\n",
        "\n",
        "$$Sharpe Ratio_{AN} = Sharpe Ratio_M \\times \\sqrt{12}$$\n",
        "\n",
        "&nbsp;\n",
        "\n",
        "Resampling is very easy with `pandas`. `Pandas` has a simple and efficient function `resample()` for performing resampling operations (e.g., converting daily data into monthly data). Data resampling is very common in financial applications. See an examples below:\n",
        "\n",
        "```\n",
        "stock_monthly = df['stock_daily'].resample('M')\n",
        "```\n",
        "\n",
        "The resample() method can be used directly from DataFrame objects. We also apply the Pandas `dataframe.ffill()` function to fill the missing value in the dataframe.\n"
      ]
    },
    {
      "cell_type": "code",
      "metadata": {
        "dc": {
          "key": "32"
        },
        "tags": [
          "sample_code"
        ],
        "trusted": true,
        "id": "SFrnJ2YJFQSp"
      },
      "source": [
        "# step 1: resample daily stock prices into monthly\n",
        "stock_prices_monthly = stock_prices.resample('M').ffill()\n",
        "stock_prices_monthly.head()"
      ],
      "execution_count": null,
      "outputs": []
    },
    {
      "cell_type": "code",
      "metadata": {
        "id": "phNIa_NHHMXO"
      },
      "source": [
        "# step 2: calculate monthly stock returns using the .pct_change() function \n",
        "stock_returns = stock_prices_monthly.pct_change()\n",
        "\n",
        "# plot the calculated monthly stock returns; we can plot the last 60 monthly \n",
        "# stock returns by selecting the last 60 rows/months of the dataframe as [-60:]\n",
        "stock_returns[-60:].plot(title='Monthly Stock Returns', subplots=True, figsize=(10, 8))\n",
        "\n",
        "# summarise the monthly returns\n",
        "stock_returns.describe()\n"
      ],
      "execution_count": null,
      "outputs": []
    },
    {
      "cell_type": "markdown",
      "metadata": {
        "dc": {
          "key": "39"
        },
        "deletable": false,
        "editable": false,
        "run_control": {
          "frozen": true
        },
        "tags": [
          "context"
        ],
        "id": "5KB5C7WzFQSp"
      },
      "source": [
        "## 7. Merging the dataframes with stock prices and T-bill rates\n",
        "\n",
        "For standard database joins between Pandas DataFrame or Series objects, we can use function `merge()`. The join is done on DataFrame columns or indexes. If joining columns on columns, the DataFrame indexes will be ignored. Otherwise, if joining indexes on indexes, or indexes on a column or columns, the index will be passed on. \n",
        "\n",
        "Furthermore, when gluing together multiple DataFrames, you have a choice of how to handle the remaining axes - other than the one being concatenated. This can be done in the following two ways:\n",
        "\n",
        "1. Take the union of them all: use `join='outer'` argument. This is the default option as it results in zero information loss.\n",
        "\n",
        "2. Take the intersection only: use the `join='inner'` argument.\n",
        "\n",
        "Putting it all together, to merge the two dataframes we work with, we use:\n",
        "\n",
        "```\n",
        "merged_dataframe = pd.merge(left_dataframe, right_dataframe, on='date',   how='inner')\n",
        "```\n",
        "OR\n",
        "```\n",
        "merged_dataframe = left_dataframe(right_dataframe, how='inner', on='date')\n",
        "```\n",
        "\n",
        "For more tips on merging, joining, concatenating Pandas dataframes, see <a href=\"https://pandas.pydata.org/pandas-docs/stable/user_guide/merging.html\">pandas documentation</a>."
      ]
    },
    {
      "cell_type": "code",
      "metadata": {
        "dc": {
          "key": "39"
        },
        "tags": [
          "sample_code"
        ],
        "trusted": true,
        "id": "IVxYbo7GFQSp"
      },
      "source": [
        "# Merge the two dataframes we work with\n",
        "merged_data = pd.merge(tbill_rate, stock_returns, on='date', how='inner').fillna(0)\n",
        "\n",
        "# Drop redundant columns, such as MRK-RF, SMB and HML\n",
        "merged_data_tidy = merged_data.drop(['MRK-RF', 'SMB', 'HML'], axis=1)\n",
        "merged_data_tidy.head()"
      ],
      "execution_count": null,
      "outputs": []
    },
    {
      "cell_type": "markdown",
      "metadata": {
        "dc": {
          "key": "46"
        },
        "deletable": false,
        "editable": false,
        "run_control": {
          "frozen": true
        },
        "tags": [
          "context"
        ],
        "id": "UQFy7q2FFQSp"
      },
      "source": [
        "## 8. Calculating stock excess returns\n",
        "Next, we need to calculate the relative performance of stocks vs. the Treasury-bill asset. This is calculated as the difference in returns between \"stock_returns\" and the \"RF\" series in the `merged_data_tidy` dataframe for each month. The excess returns will be stored as new pandas series within the same dataframe:\n",
        "```\n",
        "merged_data_tidy['new_series'] = ...\n",
        "```\n",
        "This code will create a new pandas dataseries `new_series` in the existing `merged_data_tidy` dataframe."
      ]
    },
    {
      "cell_type": "code",
      "metadata": {
        "dc": {
          "key": "46"
        },
        "tags": [
          "sample_code"
        ],
        "trusted": true,
        "id": "wd6y34OQFQSq"
      },
      "source": [
        "# calculate excess stock returns by adding several new series into the \"merged_data_tidy\" dataframe\n",
        "merged_data_tidy['JPM_exc'] = merged_data_tidy['JPM']-merged_data_tidy['RF'] \n",
        "merged_data_tidy['MSFT_exc'] = merged_data_tidy['MSFT']-merged_data_tidy['RF'] \n",
        "\n",
        "# plot the excess returns for one of the stocks\n",
        "merged_data_tidy['JPM_exc'].plot(title=\"JPM excess returns\",  figsize=(10, 8))\n",
        "\n",
        "# summarize the excess returns\n",
        "merged_data_tidy.describe()"
      ],
      "execution_count": null,
      "outputs": []
    },
    {
      "cell_type": "markdown",
      "metadata": {
        "dc": {
          "key": "53"
        },
        "deletable": false,
        "editable": false,
        "run_control": {
          "frozen": true
        },
        "tags": [
          "context"
        ],
        "id": "Z6VlEKUyFQSq"
      },
      "source": [
        "## 9. Computing the Sharpe Ratio\n",
        "\n",
        "We are now ready to put it all together and compute the Sharpe Ratios for our chosen stocks. We will use the following steps:\n",
        "\n",
        "1. compute average monthly excess returns\n",
        "2. compute standard deviation of monthly excess returns\n",
        "3. compute monthly Sharpe Ratios for the chosen stocks\n",
        "4. annualise the computed monthly Sharpe Ratios"
      ]
    },
    {
      "cell_type": "markdown",
      "metadata": {
        "id": "7NGQKBMeL7qX"
      },
      "source": [
        "### Step 1: computing average excess returns\n",
        "\n",
        "First we need to calculate the average of the monthly `excess_returns` computed in Step 8 over the analysed 5-year period. The calculated measure will tell us how much more or less the investment yields per month, on average, compared to the T-bill asset."
      ]
    },
    {
      "cell_type": "code",
      "metadata": {
        "dc": {
          "key": "53"
        },
        "tags": [
          "sample_code"
        ],
        "collapsed": true,
        "trusted": true,
        "id": "jHqV5L2EFQSq"
      },
      "source": [
        "# calculate the average of monthly excess_returns \n",
        "JPM_avg_exc = merged_data_tidy['JPM_exc'].mean()\n",
        "MSFT_avg_exc = merged_data_tidy['MSFT_exc'].mean()"
      ],
      "execution_count": null,
      "outputs": []
    },
    {
      "cell_type": "markdown",
      "metadata": {
        "dc": {
          "key": "60"
        },
        "deletable": false,
        "editable": false,
        "run_control": {
          "frozen": true
        },
        "tags": [
          "context"
        ],
        "id": "trk_vT2LFQSq"
      },
      "source": [
        "### Step 2: computing standard deviation of excess returns\n",
        "\n",
        "Next, we calculate the standard deviation of the `excess_returns` computed in Spet 8. This measure captures the amount of total risk an investment in the stocks implies compared to an investment in the T-bill asset."
      ]
    },
    {
      "cell_type": "code",
      "metadata": {
        "dc": {
          "key": "60"
        },
        "tags": [
          "sample_code"
        ],
        "collapsed": true,
        "trusted": true,
        "id": "sMzj32y9FQSq"
      },
      "source": [
        "# calculate the standard deviations\n",
        "JPM_std_exc = merged_data_tidy['JPM_exc'].std()\n",
        "MSFT_std_exc = merged_data_tidy['MSFT_exc'].std()"
      ],
      "execution_count": null,
      "outputs": []
    },
    {
      "cell_type": "markdown",
      "metadata": {
        "id": "kPNznTK3r31r"
      },
      "source": [
        "### Step 3: computing monthly Sharpe Ratios\n",
        "\n",
        "Once the average monthly excess returns and the standard deviation of excess returns have been computed, we can calculate the Sharpe ratios for each stock as:\n",
        "\n",
        "&nbsp;\n",
        "\n",
        "$$Sharpe Ratio  = \\frac{E|R_p - R_{rf}|}{\\sqrt{var(R_p - R_{rf})}}$$\n",
        "\n",
        "&nbsp;\n",
        "\n",
        "\n"
      ]
    },
    {
      "cell_type": "code",
      "metadata": {
        "id": "dfC_4ydSr_iz"
      },
      "source": [
        "# calculate the Sharpe ratios\n",
        "sharpe_month_JPM = JPM_avg_exc/JPM_std_exc\n",
        "sharpe_month_MSFT = MSFT_avg_exc/MSFT_std_exc"
      ],
      "execution_count": null,
      "outputs": []
    },
    {
      "cell_type": "markdown",
      "metadata": {
        "id": "zq3S6crysXqW"
      },
      "source": [
        "### Step 4: annualising monthly Sharpe Ratios\n",
        "\n",
        "The final step is to annualise the computed Sharpe ratios to put the numbers in a more useful one-year context, as follows:\n",
        "\n",
        "&nbsp;\n",
        "\n",
        "$$Sharpe Ratio_{AN} = Sharpe Ratio_M \\times \\sqrt{12}$$\n",
        "\n",
        "&nbsp;\n",
        "\n",
        "The higher the Sharpe Ratio, the better the asset’s historical risk-adjusted performance. The Sharpe Ratio is used widely to compare and rank portfolio managers with similar strategies on the basis of excess return each portfolio achieved per unit of total risk.\n"
      ]
    },
    {
      "cell_type": "code",
      "metadata": {
        "id": "3nNwNZktsbp7"
      },
      "source": [
        "# introduce an adjustment (annual) factor\n",
        "annual_factor = np.sqrt(12)\n",
        "\n",
        "# annualise the Sharpe ratios by applying the adjustment factor\n",
        "sharpe_JPM = sharpe_month_JPM*annual_factor\n",
        "sharpe_MSFT = sharpe_month_MSFT*annual_factor\n",
        "\n",
        "# reporting the Sharpe ratios\n",
        "print(sharpe_JPM, sharpe_MSFT)"
      ],
      "execution_count": null,
      "outputs": []
    },
    {
      "cell_type": "markdown",
      "metadata": {
        "dc": {
          "key": "74"
        },
        "deletable": false,
        "editable": false,
        "run_control": {
          "frozen": true
        },
        "tags": [
          "context"
        ],
        "id": "ZvFxX0pgFQSr"
      },
      "source": [
        "## 10. Conclusion\n",
        "Given the two Sharpe ratios, which investment should you go for? When choosing among investment alternatives that offer different levels of returns and risks, the Sharpe Ratio is used to adjust the investment returns for risk. "
      ]
    }
  ]
}